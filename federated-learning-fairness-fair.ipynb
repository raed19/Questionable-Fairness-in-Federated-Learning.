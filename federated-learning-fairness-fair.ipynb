{
 "cells": [
  {
   "cell_type": "markdown",
   "id": "8439367d-c066-4a2a-93e0-afa09021cf55",
   "metadata": {},
   "source": [
    "# Preprocess data"
   ]
  },
  {
   "cell_type": "code",
   "execution_count": 1,
   "id": "8bbb4d19-f738-45d9-ba30-cc131ee716f0",
   "metadata": {},
   "outputs": [
    {
     "name": "stdout",
     "output_type": "stream",
     "text": [
      "Preprocess train-val data ...\n",
      "\tRead raw data ...\n",
      "\t\tTotal samples: 32561\n",
      "\tDiscard samples with missing features ...\n",
      "\t\tSamples without missing features: 30162\n",
      "\tConvert samples to feature vectors ...\n",
      "\t\tNormalize features ...\n",
      "\t\tFeature matrix dims: (30162, 105)\n",
      "\tSave features to npy file ...\n",
      "\tRead labels ...\n",
      "\t\tLabels matrix dims: (30162,)\n",
      "\t\tPercentage of positives: 24.89%\n",
      "\tSave labels to npy file ...\n",
      "\tCreate train-val split ...\n",
      "\t\tNum train samples: 30162\n",
      "\t\tNum val samples: 0\n",
      "\tSave train and val sample ids ...\n",
      "Preprocess test data ...\n",
      "\tRead raw data ...\n",
      "\t\tTotal samples: 16281\n",
      "\tDiscard samples with missing features ...\n",
      "\t\tSamples without missing features: 15060\n",
      "\tConvert samples to feature vectors ...\n",
      "\t\tNormalize features ...\n",
      "\t\tFeature matrix dims: (15060, 105)\n",
      "\tSave features to npy file ...\n",
      "\tRead labels ...\n",
      "\t\tLabels matrix dims: (15060,)\n",
      "\t\tPercentage of positives: 24.57%\n",
      "\tSave labels to npy file ...\n",
      "\tSave sample ids ...\n"
     ]
    }
   ],
   "source": [
    "%run -m preprocess"
   ]
  },
  {
   "cell_type": "code",
   "execution_count": 2,
   "id": "d4e0991d-73f6-415d-90c8-0f33abdcbc4b",
   "metadata": {},
   "outputs": [],
   "source": [
    "import numpy as np"
   ]
  },
  {
   "cell_type": "code",
   "execution_count": 3,
   "id": "06a685d1-c486-4104-94d9-c2420edec209",
   "metadata": {},
   "outputs": [],
   "source": [
    "import copy\n",
    "import torch\n",
    "import torch.nn as nn\n",
    "\n",
    "\n",
    "class IncomeClassifierConstants():\n",
    "    def __init__(self):\n",
    "        self.in_dim = 105\n",
    "        self.hidden_dim = 105\n",
    "        self.num_hidden_blocks = 2\n",
    "        self.drop_prob = 0.2\n",
    "        self.out_dim =2\n",
    "\n",
    "\n",
    "class IncomeClassifier(nn.Module):\n",
    "    def __init__(self,const):\n",
    "        super().__init__()\n",
    "        self.const = copy.deepcopy(const)\n",
    "\n",
    "        if self.const.num_hidden_blocks==0:\n",
    "            self.layers = nn.Linear(self.const.in_dim,self.const.out_dim)\n",
    "\n",
    "        else:\n",
    "            layers = []\n",
    "            \n",
    "            # Add input layers\n",
    "            layers.append(self.input_block())\n",
    "            \n",
    "            # Add hidden layers\n",
    "            for i in range(self.const.num_hidden_blocks):\n",
    "                layers.append(self.hidden_block())\n",
    "            \n",
    "            # Add output layers\n",
    "            layers.append(self.output_block())\n",
    "            \n",
    "            self.layers = nn.Sequential(*layers)\n",
    "\n",
    "        self.softmax_layer = nn.Softmax(1)\n",
    "\n",
    "\n",
    "    def input_block(self):\n",
    "        return nn.Sequential(\n",
    "            nn.Linear(self.const.in_dim,self.const.hidden_dim),\n",
    "            nn.BatchNorm1d(self.const.hidden_dim),\n",
    "            nn.Dropout(self.const.drop_prob),\n",
    "            nn.Sigmoid())\n",
    "\n",
    "    def hidden_block(self):\n",
    "        return nn.Sequential(\n",
    "            nn.Linear(self.const.hidden_dim,self.const.hidden_dim),\n",
    "            nn.BatchNorm1d(self.const.hidden_dim),\n",
    "            nn.Dropout(self.const.drop_prob),\n",
    "            nn.Sigmoid())\n",
    "\n",
    "    def output_block(self):\n",
    "        return nn.Linear(self.const.hidden_dim,self.const.out_dim)\n",
    "\n",
    "    def forward(self,x):\n",
    "        logits = self.layers(x)\n",
    "#         probs = self.softmax_layer(logits)\n",
    "        return logits#, probs\n",
    "\n",
    "\n"
   ]
  },
  {
   "cell_type": "code",
   "execution_count": 4,
   "id": "bcf009b3-19e0-48ae-bb31-99e17856410f",
   "metadata": {},
   "outputs": [],
   "source": [
    "x_train = np.load('income_proc/train_val_feat.npy')\n",
    "y_train = np.load('income_proc/train_val_label.npy')\n",
    "x_test = np.load('income_proc/test_feat.npy')\n",
    "y_test = np.load('income_proc/test_label.npy')"
   ]
  },
  {
   "cell_type": "code",
   "execution_count": 5,
   "id": "d434274b-5881-4a2b-ac63-bbdcb3e95036",
   "metadata": {},
   "outputs": [
    {
     "data": {
      "text/plain": [
       "array([ 0.6928689,  0.6928689,  0.6928689, ..., -1.4435358,  0.6928689,\n",
       "       -1.4435358], dtype=float32)"
      ]
     },
     "execution_count": 5,
     "metadata": {},
     "output_type": "execute_result"
    }
   ],
   "source": [
    "x_train[:, 57]"
   ]
  },
  {
   "cell_type": "markdown",
   "id": "8186e627-145c-4340-b0c0-55bbde03cd2a",
   "metadata": {},
   "source": [
    "# Partition data into clients"
   ]
  },
  {
   "cell_type": "code",
   "execution_count": 6,
   "id": "16ea7712-2c1e-4d95-8cfe-9a0dae669c7e",
   "metadata": {
    "id": "qjb0a8dDMiIg"
   },
   "outputs": [],
   "source": [
    "from matplotlib import pyplot as plt\n",
    "import random\n",
    "import numpy as np\n",
    "\n",
    "def split_image_data_realwd(data, labels=2, n_clients=100, verbose=True):\n",
    "  '''\n",
    "  Splits (data, labels) among 'n_clients s.t. every client can holds any number of classes which is trying to simulate real world dataset\n",
    "  Input:\n",
    "    data : [n_data x shape]\n",
    "    labels : [n_data (x 1)] from 0 to n_labels(10)\n",
    "    n_clients : number of clients\n",
    "    verbose : True/False => True for printing some info, False otherwise\n",
    "  Output:\n",
    "    clients_split : splitted client data into desired format\n",
    "  '''\n",
    "  def break_into(n,m):\n",
    "    ''' \n",
    "    return m random integers with sum equal to n \n",
    "    '''\n",
    "    to_ret = [1 for i in range(m)]\n",
    "    for i in range(n-m):\n",
    "        ind = random.randint(0,m-1)\n",
    "        to_ret[ind] += 1\n",
    "    return to_ret\n",
    "\n",
    "  #### constants ####\n",
    "  n_labels = 2\n",
    "  n_classes = len(set(labels))\n",
    "  classes = list(range(n_classes))\n",
    "  np.random.shuffle(classes)\n",
    "  #print('classes',classes)\n",
    "  label_indcs  = [list(np.where(labels==class_)[0]) for class_ in classes]\n",
    "  #print('label_indcs',label_indcs)\n",
    "  \n",
    "  #### classes for each client ####\n",
    "  tmp = [np.random.randint(1,10) for i in range(n_clients)]\n",
    "  #print(' temp',tmp)\n",
    "  total_partition = sum(tmp)\n",
    "  #print('total temp',total_partition)\n",
    "  \n",
    "\n",
    "  #### create partition among classes to fulfill criteria for clients ####\n",
    "  class_partition = break_into(total_partition, len(classes))\n",
    "\n",
    "\n",
    "\n",
    "  #### applying greedy approach first come and first serve ####\n",
    "  class_partition = sorted(class_partition,reverse=True)\n",
    "  #print('class_partition',class_partition)\n",
    "  class_partition_split = {}\n",
    "\n",
    "  #### based on class partition, partitioning the label indexes ###\n",
    "  for ind, class_ in enumerate(classes):\n",
    "      class_partition_split[class_] = [list(i) for i in np.array_split(label_indcs[ind],class_partition[ind])]\n",
    "      \n",
    "#   print([len(class_partition_split[key]) for key in  class_partition_split.keys()])\n",
    "  #print('class_partition_split',class_partition_split)\n",
    "  #print('lenth',len(class_partition_split))\n",
    "  clients_split = []\n",
    "  count = 0\n",
    "  for i in range(n_clients):\n",
    "    n = tmp[i]\n",
    "    j = 0\n",
    "    indcs = []\n",
    "\n",
    "    while n>0:\n",
    "        #print('n',n)\n",
    "        class_ = classes[j]\n",
    "        if len(class_partition_split[class_])>0:\n",
    "            indcs.extend(class_partition_split[class_][-1])\n",
    "            count+=len(class_partition_split[class_][-1])\n",
    "            class_partition_split[class_].pop()\n",
    "            n-=1\n",
    "        j = (j+1) % n_classes\n",
    "\n",
    "    ##### sorting classes based on the number of examples it has #####\n",
    "    classes = sorted(classes,key=lambda x:len(class_partition_split[x]),reverse=True)\n",
    "    if n>0:\n",
    "        raise ValueError(\" Unable to fulfill the criteria \")\n",
    "    clients_split.append([data[indcs], labels[indcs]])\n",
    "#   print(class_partition_split)\n",
    "#   print(\"total example \",count)\n",
    "\n",
    "  def print_split(clients_split): \n",
    "    width = 0.35\n",
    "    plt.figure(figsize=(20, 10))\n",
    "    columns = ['Client 1', 'Client 2', 'Client 3','Client 4','Client 5','Client 6','Client 7', 'Client 8','Client 9', 'Client 10','Client 11', 'Client 12','Client 13','Client 14','Client 15']\n",
    "    clients = np.arange(n_clients)\n",
    "    colors = ['red', 'yellow', 'black', 'blue', 'orange', 'navy','green','plum','cyan','purple']\n",
    "\n",
    "\n",
    "    print(\"Data split:\")\n",
    "    \n",
    "    all = []\n",
    "    for i, client in enumerate(clients_split):\n",
    "      split = np.sum(client[1].reshape(1,-1)==np.arange(n_labels).reshape(-1,1), axis=1)\n",
    "      all.append(split)\n",
    "      print(\" - Client test {}: {}\".format(i,split))\n",
    "\n",
    "    \n",
    "    \n",
    "    all = np.array(all)\n",
    "    all = np.transpose(all)\n",
    "    for j in range (n_labels):\n",
    "      if( j == 0):\n",
    "        plt.bar(clients, all[j], color= colors[j],  edgecolor=colors,  width = width, label = \"class %d \" %j )\n",
    "      elif (j == 1):\n",
    "        plt.bar(clients,  all[j], color= colors[j],  edgecolor=colors,  bottom= all[j-1], width = width, label = \"class %d\" % j )\n",
    "      else:\n",
    "        plt.bar(clients,  all[j], color= colors[j],  edgecolor=colors,  bottom=sum(all[j] for j in range(j)) , width = width, label = \"class %d\" % j )\n",
    "\n",
    "#     plt.xticks(clients, columns)\n",
    "    plt.legend(loc='upper right')\n",
    "    plt.show()\n",
    "    print()\n",
    "      \n",
    "  if verbose:\n",
    "    print_split(clients_split)\n",
    "  \n",
    "  clients_split = np.array(clients_split)\n",
    "  \n",
    "  return clients_split"
   ]
  },
  {
   "cell_type": "code",
   "execution_count": 7,
   "id": "eb07c491-f877-40d0-92f8-2c075e09cbc3",
   "metadata": {
    "colab": {
     "base_uri": "https://localhost:8080/",
     "height": 750
    },
    "id": "BUJLkaP0MiL0",
    "outputId": "060202b5-b279-48d1-ba14-b6aa2e2a95fd"
   },
   "outputs": [
    {
     "name": "stdout",
     "output_type": "stream",
     "text": [
      "Data split:\n",
      " - Client test 0: [11326  1500]\n",
      " - Client test 1: [5664  751]\n",
      " - Client test 2: [5664 1502]\n",
      " - Client test 3: [   0 3004]\n",
      " - Client test 4: [  0 751]\n"
     ]
    },
    {
     "data": {
      "image/png": "[encoded data removed]",
      "text/plain": [
       "<Figure size 1440x720 with 1 Axes>"
      ]
     },
     "metadata": {
      "needs_background": "light"
     },
     "output_type": "display_data"
    },
    {
     "name": "stdout",
     "output_type": "stream",
     "text": [
      "\n"
     ]
    },
    {
     "name": "stderr",
     "output_type": "stream",
     "text": [
      "/scratch/local/12330076/ipykernel_44705/1122788558.py:120: VisibleDeprecationWarning: Creating an ndarray from ragged nested sequences (which is a list-or-tuple of lists-or-tuples-or ndarrays with different lengths or shapes) is deprecated. If you meant to do this, you must specify 'dtype=object' when creating the ndarray.\n",
      "  clients_split = np.array(clients_split)\n"
     ]
    }
   ],
   "source": [
    "clients_split = split_image_data_realwd(x_train, y_train, n_clients=5, verbose=True)"
   ]
  },
  {
   "cell_type": "markdown",
   "id": "8915f3a3-b84b-4823-ab6b-091f0cec9ece",
   "metadata": {},
   "source": [
    "# Re-balance data"
   ]
  },
  {
   "cell_type": "code",
   "execution_count": 8,
   "id": "656aa5e2-c3bd-4264-a982-e0ac4de3587c",
   "metadata": {},
   "outputs": [],
   "source": [
    "from income_attributes import *\n",
    "\n",
    "ATTR_TO_IDX\n",
    "female_ft_idx = ATTR_TO_IDX['Female']\n",
    "male_ft_idx = ATTR_TO_IDX['Male']\n",
    "\n",
    "def print_gender_cnt(clients_split, client_idx, gender_ft_idx=57):\n",
    "    print('------- Label 0 -------')\n",
    "    print('female', sum(clients_split[client_idx][0][np.where(clients_split[client_idx][1] == 0)[0]][:,gender_ft_idx] < 0)) # female, label 0\n",
    "    print('male', sum(clients_split[client_idx][0][np.where(clients_split[client_idx][1] == 0)[0]][:,gender_ft_idx] > 0)) # male, label 0\n",
    "\n",
    "    print('\\n------- Label 1 -------')\n",
    "    print('female', sum(clients_split[client_idx][0][np.where(clients_split[client_idx][1] == 1)[0]][:,gender_ft_idx] < 0)) # female, label 0\n",
    "    print('male', sum(clients_split[client_idx][0][np.where(clients_split[client_idx][1] == 1)[0]][:,gender_ft_idx] > 0)) # male, label 0"
   ]
  },
  {
   "cell_type": "code",
   "execution_count": 9,
   "id": "f0fb6399-8519-41aa-b1ca-d9e6f60b86cf",
   "metadata": {},
   "outputs": [],
   "source": [
    "def balance_gender(data, clients, ratio_male_female=4, n_clients=5, n_labels=2):\n",
    "    \"\"\"\n",
    "    Assuming that num of males is always greater than num of females in data\n",
    "    \"\"\"\n",
    "    new_data = []\n",
    "\n",
    "    for i in range(n_clients):\n",
    "        if i in clients:\n",
    "            samples = []\n",
    "            labels = []\n",
    "            for j in range(n_labels):\n",
    "                samples_label = data[i][0][np.where(data[i][1] == j)[0]] # samples that have label j\n",
    "                num_females = np.sum(samples_label[:, 56] > 0)\n",
    "                num_males = np.sum(samples_label[:, 57] > 0)\n",
    "\n",
    "                num_iter =  min(int(num_males/ratio_male_female), num_females)\n",
    "                samples.append(samples_label[np.where(samples_label[:,56] > 0)[0]][: 1*num_iter]) # female samples\n",
    "                samples.append(samples_label[np.where(samples_label[:,57] > 0)[0]][: ratio_male_female*num_iter]) # male samples\n",
    "\n",
    "                labels.append(np.repeat(j, min(num_females, 1 * num_iter) + min(num_males, ratio_male_female*num_iter)))\n",
    "                \n",
    "\n",
    "            samples = np.vstack(samples)\n",
    "            labels = np.hstack(labels)\n",
    "            new_data.append([samples, labels])\n",
    "        else:\n",
    "            new_data.append([data[i][0], data[i][1]])\n",
    "\n",
    "    return np.array(new_data)"
   ]
  },
  {
   "cell_type": "code",
   "execution_count": 11,
   "id": "b0f22709-2142-4267-b5c7-9b973c5a166c",
   "metadata": {},
   "outputs": [
    {
     "name": "stderr",
     "output_type": "stream",
     "text": [
      "/scratch/local/12330076/ipykernel_44705/1391985354.py:29: VisibleDeprecationWarning: Creating an ndarray from ragged nested sequences (which is a list-or-tuple of lists-or-tuples-or ndarrays with different lengths or shapes) is deprecated. If you meant to do this, you must specify 'dtype=object' when creating the ndarray.\n",
      "  return np.array(new_data)\n"
     ]
    }
   ],
   "source": [
    "clients_split = balance_gender(clients_split, [0, 1, 2, 3, 4], 1, 5, 2)"
   ]
  },
  {
   "cell_type": "markdown",
   "id": "89b7afcb-ca88-4652-ac67-fe36ed8568de",
   "metadata": {},
   "source": [
    "# Training model"
   ]
  },
  {
   "cell_type": "code",
   "execution_count": 17,
   "id": "19b66e73-a67d-483d-beb2-4110ed1bf194",
   "metadata": {},
   "outputs": [
    {
     "data": {
      "text/plain": [
       "'cuda'"
      ]
     },
     "execution_count": 17,
     "metadata": {},
     "output_type": "execute_result"
    }
   ],
   "source": [
    "device = 'cuda' if torch.cuda.is_available() else 'cpu'\n",
    "if device == 'cuda':\n",
    "    torch.backends.cudnn.benchmark=True\n",
    "    \n",
    "device"
   ]
  },
  {
   "cell_type": "code",
   "execution_count": 18,
   "id": "e8256dfa-e1ab-4bfa-b0f6-7f49436151a2",
   "metadata": {},
   "outputs": [],
   "source": [
    "#Hyper-paramters for FL\n",
    "num_selected = num_clients = 5\n",
    "num_rounds = 5\n",
    "epochs = 5\n",
    "batch_size= 32"
   ]
  },
  {
   "cell_type": "code",
   "execution_count": 20,
   "id": "3a91839b-2717-4885-b71e-2fe70f03638f",
   "metadata": {},
   "outputs": [],
   "source": [
    "from torch.utils.data import TensorDataset, DataLoader\n",
    "\n",
    "train_loader = [torch.utils.data.DataLoader(TensorDataset(torch.Tensor(clients_split[x][0]), torch.Tensor(clients_split[x][1])), batch_size=batch_size, shuffle=True, num_workers=4, drop_last=True) \n",
    "                for x in range(num_clients)]\n",
    "test_loader = torch.utils.data.DataLoader(\n",
    "       TensorDataset(torch.Tensor(x_test), torch.Tensor(y_test)) , batch_size=batch_size, shuffle=False, num_workers=4)"
   ]
  },
  {
   "cell_type": "code",
   "execution_count": 21,
   "id": "6682e05b-3e92-40ce-ae02-c7fe13375906",
   "metadata": {
    "id": "LgUzr1YdMibd"
   },
   "outputs": [],
   "source": [
    "def client_update(client_model, optimizer, fn_loss, train_loader, epoch=5):\n",
    "    \"\"\"\n",
    "    This function updates/trains client model on client data\n",
    "    \"\"\"\n",
    "    client_model.train()\n",
    "    for e in range(epoch):\n",
    "        for batch_idx, (data, target) in enumerate(train_loader):\n",
    "            data, target = data.to(device), target.to(device)\n",
    "            target = target.long() \n",
    "            optimizer.zero_grad()\n",
    "            output = client_model(data)\n",
    "            loss = fn_loss(output, target)\n",
    "            loss.backward()\n",
    "            optimizer.step()\n",
    "    return loss.item()"
   ]
  },
  {
   "cell_type": "code",
   "execution_count": 22,
   "id": "cf326b9b-458d-492f-a221-8e3f5ba5d57c",
   "metadata": {
    "id": "7j08duVKMic2"
   },
   "outputs": [],
   "source": [
    "def server_aggregate(global_model, client_models):\n",
    "    \"\"\"\n",
    "    This function has aggregation method 'mean'\n",
    "    \"\"\"\n",
    "    ### This will take simple mean of the weights of models ###\n",
    "    global_dict = global_model.state_dict()\n",
    "    for k in global_dict.keys():\n",
    "        global_dict[k] = torch.stack([client_models[i].state_dict()[k].float() for i in range(len(client_models))], 0).mean(0)\n",
    "    global_model.load_state_dict(global_dict)\n",
    "    for model in client_models:\n",
    "        model.load_state_dict(global_model.state_dict())"
   ]
  },
  {
   "cell_type": "code",
   "execution_count": 23,
   "id": "18244dc7-2d9b-484f-b548-7ee49570317a",
   "metadata": {
    "id": "8yjCTqllMifF"
   },
   "outputs": [],
   "source": [
    "def check_accuracy(loader, model):\n",
    "    num_correct = 0\n",
    "    num_samples = 0\n",
    "    model.eval()\n",
    "    \n",
    "    with torch.no_grad():\n",
    "        for x, y in loader:\n",
    "            x = x.to(device=device)\n",
    "            y = y.to(device=device)\n",
    "            \n",
    "            scores = model(x)\n",
    "            _, predictions = scores.max(1)\n",
    "            num_correct += (predictions == y).sum()\n",
    "            num_samples += predictions.size(0)\n",
    "        \n",
    "        print(f'Got {num_correct} / {num_samples} with accuracy {float(num_correct)/float(num_samples)*100:.2f}')"
   ]
  },
  {
   "cell_type": "code",
   "execution_count": 24,
   "id": "4e3b8973-db5f-497a-904c-347e38bc4bff",
   "metadata": {
    "id": "HoWJu4ObMimC"
   },
   "outputs": [],
   "source": [
    "def test(global_model,fn_loss, test_loader):\n",
    "    \"\"\"This function test the global model on test data and returns test loss and test accuracy \"\"\"\n",
    "    global_model.eval()\n",
    "    test_loss = 0\n",
    "    correct = 0\n",
    "    with torch.no_grad():\n",
    "        for data, target in test_loader:\n",
    "            data, target = data.to(device), target.to(device)\n",
    "            output = global_model(data)\n",
    "            target = target.long() \n",
    "            test_loss += fn_loss(output, target).item() # sum up batch loss\n",
    "            pred = output.argmax(dim=1, keepdim=True)  # get the index of the max log-probability\n",
    "            correct += pred.eq(target.view_as(pred)).sum().item()\n",
    "\n",
    "    test_loss /= len(test_loader.dataset)\n",
    "    acc = correct / len(test_loader.dataset)\n",
    "\n",
    "    return test_loss, acc"
   ]
  },
  {
   "cell_type": "code",
   "execution_count": 25,
   "id": "dc2ba0f6-3ee9-4fce-a766-a08127276ac6",
   "metadata": {},
   "outputs": [],
   "source": [
    "#### global model ##########\n",
    "# global_model = BasicNet(num_features, 2).to(device)\n",
    "model_const = IncomeClassifierConstants()\n",
    "global_model = IncomeClassifier(model_const).to(device)\n",
    "\n",
    "\n",
    "############## client models ##############\n",
    "client_models = [ IncomeClassifier(model_const).to(device) for _ in range(num_selected)]\n",
    "\n",
    "if device == 'cuda':\n",
    "    global_model = torch.nn.DataParallel(global_model)\n",
    "    client_models = [torch.nn.DataParallel(m) for m in client_models]\n",
    "\n",
    "for model in client_models:\n",
    "    model.load_state_dict(global_model.state_dict()) ### initial synchronizing with global model \n",
    "\n",
    "############### optimizers ################\n",
    "import torch.optim as optim\n",
    "\n",
    "opt = [optim.Adam(model.parameters(), lr=1e-3) for model in client_models]\n",
    "\n",
    "criterion = nn.CrossEntropyLoss()"
   ]
  },
  {
   "cell_type": "code",
   "execution_count": 26,
   "id": "6bf17fd5-6ec6-4ec4-b9ff-dd95c9c3cefb",
   "metadata": {},
   "outputs": [
    {
     "name": "stderr",
     "output_type": "stream",
     "text": [
      "100%|█████████████████████████████████████████████| 5/5 [01:20<00:00, 16.10s/it]\n"
     ]
    },
    {
     "name": "stdout",
     "output_type": "stream",
     "text": [
      "0-th round\n",
      "average train loss 0.155 | test loss 0.0154 | test acc: 0.815\n"
     ]
    },
    {
     "name": "stderr",
     "output_type": "stream",
     "text": [
      "100%|█████████████████████████████████████████████| 5/5 [00:46<00:00,  9.29s/it]\n"
     ]
    },
    {
     "name": "stdout",
     "output_type": "stream",
     "text": [
      "1-th round\n",
      "average train loss 0.103 | test loss 0.0143 | test acc: 0.824\n"
     ]
    },
    {
     "name": "stderr",
     "output_type": "stream",
     "text": [
      "100%|█████████████████████████████████████████████| 5/5 [00:46<00:00,  9.31s/it]\n"
     ]
    },
    {
     "name": "stdout",
     "output_type": "stream",
     "text": [
      "2-th round\n",
      "average train loss 0.0997 | test loss 0.0139 | test acc: 0.820\n"
     ]
    },
    {
     "name": "stderr",
     "output_type": "stream",
     "text": [
      "100%|█████████████████████████████████████████████| 5/5 [00:46<00:00,  9.36s/it]\n"
     ]
    },
    {
     "name": "stdout",
     "output_type": "stream",
     "text": [
      "3-th round\n",
      "average train loss 0.0913 | test loss 0.0139 | test acc: 0.810\n"
     ]
    },
    {
     "name": "stderr",
     "output_type": "stream",
     "text": [
      "100%|█████████████████████████████████████████████| 5/5 [00:46<00:00,  9.33s/it]\n"
     ]
    },
    {
     "name": "stdout",
     "output_type": "stream",
     "text": [
      "4-th round\n",
      "average train loss 0.106 | test loss 0.0136 | test acc: 0.807\n"
     ]
    },
    {
     "name": "stderr",
     "output_type": "stream",
     "text": [
      "  0%|                                                     | 0/5 [00:02<?, ?it/s]\n"
     ]
    },
    {
     "ename": "KeyboardInterrupt",
     "evalue": "",
     "output_type": "error",
     "traceback": [
      "\u001b[0;31m---------------------------------------------------------------------------\u001b[0m",
      "\u001b[0;31mKeyboardInterrupt\u001b[0m                         Traceback (most recent call last)",
      "\u001b[0;32m/scratch/local/12330076/ipykernel_44705/1739490950.py\u001b[0m in \u001b[0;36m<module>\u001b[0;34m\u001b[0m\n\u001b[1;32m     11\u001b[0m     \u001b[0mloss\u001b[0m \u001b[0;34m=\u001b[0m \u001b[0;36m0\u001b[0m\u001b[0;34m\u001b[0m\u001b[0;34m\u001b[0m\u001b[0m\n\u001b[1;32m     12\u001b[0m     \u001b[0;32mfor\u001b[0m \u001b[0mi\u001b[0m \u001b[0;32min\u001b[0m \u001b[0mtqdm\u001b[0m\u001b[0;34m(\u001b[0m\u001b[0mrange\u001b[0m\u001b[0;34m(\u001b[0m\u001b[0mnum_selected\u001b[0m\u001b[0;34m)\u001b[0m\u001b[0;34m)\u001b[0m\u001b[0;34m:\u001b[0m\u001b[0;34m\u001b[0m\u001b[0;34m\u001b[0m\u001b[0m\n\u001b[0;32m---> 13\u001b[0;31m         \u001b[0mloss\u001b[0m \u001b[0;34m+=\u001b[0m \u001b[0mclient_update\u001b[0m\u001b[0;34m(\u001b[0m\u001b[0mclient_models\u001b[0m\u001b[0;34m[\u001b[0m\u001b[0mi\u001b[0m\u001b[0;34m]\u001b[0m\u001b[0;34m,\u001b[0m \u001b[0mopt\u001b[0m\u001b[0;34m[\u001b[0m\u001b[0mi\u001b[0m\u001b[0;34m]\u001b[0m\u001b[0;34m,\u001b[0m\u001b[0mcriterion\u001b[0m\u001b[0;34m,\u001b[0m \u001b[0mtrain_loader\u001b[0m\u001b[0;34m[\u001b[0m\u001b[0mi\u001b[0m\u001b[0;34m]\u001b[0m\u001b[0;34m,\u001b[0m \u001b[0mepoch\u001b[0m\u001b[0;34m=\u001b[0m\u001b[0mepochs\u001b[0m\u001b[0;34m)\u001b[0m\u001b[0;34m\u001b[0m\u001b[0;34m\u001b[0m\u001b[0m\n\u001b[0m\u001b[1;32m     14\u001b[0m \u001b[0;34m\u001b[0m\u001b[0m\n\u001b[1;32m     15\u001b[0m     \u001b[0mlosses_train\u001b[0m\u001b[0;34m.\u001b[0m\u001b[0mappend\u001b[0m\u001b[0;34m(\u001b[0m\u001b[0mloss\u001b[0m\u001b[0;34m)\u001b[0m\u001b[0;34m\u001b[0m\u001b[0;34m\u001b[0m\u001b[0m\n",
      "\u001b[0;32m/scratch/local/12330076/ipykernel_44705/1542510229.py\u001b[0m in \u001b[0;36mclient_update\u001b[0;34m(client_model, optimizer, fn_loss, train_loader, epoch)\u001b[0m\n\u001b[1;32m     11\u001b[0m             \u001b[0moutput\u001b[0m \u001b[0;34m=\u001b[0m \u001b[0mclient_model\u001b[0m\u001b[0;34m(\u001b[0m\u001b[0mdata\u001b[0m\u001b[0;34m)\u001b[0m\u001b[0;34m\u001b[0m\u001b[0;34m\u001b[0m\u001b[0m\n\u001b[1;32m     12\u001b[0m             \u001b[0mloss\u001b[0m \u001b[0;34m=\u001b[0m \u001b[0mfn_loss\u001b[0m\u001b[0;34m(\u001b[0m\u001b[0moutput\u001b[0m\u001b[0;34m,\u001b[0m \u001b[0mtarget\u001b[0m\u001b[0;34m)\u001b[0m\u001b[0;34m\u001b[0m\u001b[0;34m\u001b[0m\u001b[0m\n\u001b[0;32m---> 13\u001b[0;31m             \u001b[0mloss\u001b[0m\u001b[0;34m.\u001b[0m\u001b[0mbackward\u001b[0m\u001b[0;34m(\u001b[0m\u001b[0;34m)\u001b[0m\u001b[0;34m\u001b[0m\u001b[0;34m\u001b[0m\u001b[0m\n\u001b[0m\u001b[1;32m     14\u001b[0m             \u001b[0moptimizer\u001b[0m\u001b[0;34m.\u001b[0m\u001b[0mstep\u001b[0m\u001b[0;34m(\u001b[0m\u001b[0;34m)\u001b[0m\u001b[0;34m\u001b[0m\u001b[0;34m\u001b[0m\u001b[0m\n\u001b[1;32m     15\u001b[0m     \u001b[0;32mreturn\u001b[0m \u001b[0mloss\u001b[0m\u001b[0;34m.\u001b[0m\u001b[0mitem\u001b[0m\u001b[0;34m(\u001b[0m\u001b[0;34m)\u001b[0m\u001b[0;34m\u001b[0m\u001b[0;34m\u001b[0m\u001b[0m\n",
      "\u001b[0;32m/blue/thai/truc.nguyen/malware-backdoor/.conda-pytorch/lib/python3.8/site-packages/torch/tensor.py\u001b[0m in \u001b[0;36mbackward\u001b[0;34m(self, gradient, retain_graph, create_graph)\u001b[0m\n\u001b[1;32m    219\u001b[0m                 \u001b[0mretain_graph\u001b[0m\u001b[0;34m=\u001b[0m\u001b[0mretain_graph\u001b[0m\u001b[0;34m,\u001b[0m\u001b[0;34m\u001b[0m\u001b[0;34m\u001b[0m\u001b[0m\n\u001b[1;32m    220\u001b[0m                 create_graph=create_graph)\n\u001b[0;32m--> 221\u001b[0;31m         \u001b[0mtorch\u001b[0m\u001b[0;34m.\u001b[0m\u001b[0mautograd\u001b[0m\u001b[0;34m.\u001b[0m\u001b[0mbackward\u001b[0m\u001b[0;34m(\u001b[0m\u001b[0mself\u001b[0m\u001b[0;34m,\u001b[0m \u001b[0mgradient\u001b[0m\u001b[0;34m,\u001b[0m \u001b[0mretain_graph\u001b[0m\u001b[0;34m,\u001b[0m \u001b[0mcreate_graph\u001b[0m\u001b[0;34m)\u001b[0m\u001b[0;34m\u001b[0m\u001b[0;34m\u001b[0m\u001b[0m\n\u001b[0m\u001b[1;32m    222\u001b[0m \u001b[0;34m\u001b[0m\u001b[0m\n\u001b[1;32m    223\u001b[0m     \u001b[0;32mdef\u001b[0m \u001b[0mregister_hook\u001b[0m\u001b[0;34m(\u001b[0m\u001b[0mself\u001b[0m\u001b[0;34m,\u001b[0m \u001b[0mhook\u001b[0m\u001b[0;34m)\u001b[0m\u001b[0;34m:\u001b[0m\u001b[0;34m\u001b[0m\u001b[0;34m\u001b[0m\u001b[0m\n",
      "\u001b[0;32m/blue/thai/truc.nguyen/malware-backdoor/.conda-pytorch/lib/python3.8/site-packages/torch/autograd/__init__.py\u001b[0m in \u001b[0;36mbackward\u001b[0;34m(tensors, grad_tensors, retain_graph, create_graph, grad_variables)\u001b[0m\n\u001b[1;32m    128\u001b[0m         \u001b[0mretain_graph\u001b[0m \u001b[0;34m=\u001b[0m \u001b[0mcreate_graph\u001b[0m\u001b[0;34m\u001b[0m\u001b[0;34m\u001b[0m\u001b[0m\n\u001b[1;32m    129\u001b[0m \u001b[0;34m\u001b[0m\u001b[0m\n\u001b[0;32m--> 130\u001b[0;31m     Variable._execution_engine.run_backward(\n\u001b[0m\u001b[1;32m    131\u001b[0m         \u001b[0mtensors\u001b[0m\u001b[0;34m,\u001b[0m \u001b[0mgrad_tensors_\u001b[0m\u001b[0;34m,\u001b[0m \u001b[0mretain_graph\u001b[0m\u001b[0;34m,\u001b[0m \u001b[0mcreate_graph\u001b[0m\u001b[0;34m,\u001b[0m\u001b[0;34m\u001b[0m\u001b[0;34m\u001b[0m\u001b[0m\n\u001b[1;32m    132\u001b[0m         allow_unreachable=True)  # allow_unreachable flag\n",
      "\u001b[0;31mKeyboardInterrupt\u001b[0m: "
     ]
    }
   ],
   "source": [
    "from tqdm import tqdm\n",
    "###### List containing info about learning #########\n",
    "losses_train = []\n",
    "losses_test = []\n",
    "acc_train = []\n",
    "acc_test = []\n",
    "# Runnining FL\n",
    "\n",
    "for r in range(50):\n",
    "    # client update\n",
    "    loss = 0\n",
    "    for i in tqdm(range(num_selected)):\n",
    "        loss += client_update(client_models[i], opt[i],criterion, train_loader[i], epoch=epochs)\n",
    "    \n",
    "    losses_train.append(loss)\n",
    "    # server aggregate\n",
    "    server_aggregate(global_model, client_models)\n",
    "    \n",
    "    test_loss, acc = test(global_model,criterion, test_loader)\n",
    "    losses_test.append(test_loss)\n",
    "    acc_test.append(acc)\n",
    "    print('%d-th round' % r)\n",
    "    print('average train loss %0.3g | test loss %0.3g | test acc: %0.3f' % (loss / num_selected, test_loss, acc))\n",
    "\n"
   ]
  },
  {
   "cell_type": "code",
   "execution_count": 27,
   "id": "c0a43f64-f59a-439a-8a25-2d57cceb7ff6",
   "metadata": {},
   "outputs": [
    {
     "name": "stdout",
     "output_type": "stream",
     "text": [
      "Got 12150 / 15060 with accuracy 80.68\n"
     ]
    }
   ],
   "source": [
    "check_accuracy(test_loader, global_model)"
   ]
  },
  {
   "cell_type": "markdown",
   "id": "18e02a17-9f97-4121-92ab-ade3eafe9257",
   "metadata": {},
   "source": [
    "# SHAP explainer"
   ]
  },
  {
   "cell_type": "code",
   "execution_count": 28,
   "id": "95814ba8-e5a2-46e3-8d40-c9a48d654d4c",
   "metadata": {},
   "outputs": [],
   "source": [
    "from captum.attr import (\n",
    "    IntegratedGradients,\n",
    "    DeepLift,\n",
    "    DeepLiftShap,\n",
    "    GradientShap,\n",
    "    NoiseTunnel,\n",
    "    FeatureAblation,\n",
    "    Saliency,\n",
    "    InputXGradient,\n",
    "    Deconvolution,\n",
    "    FeaturePermutation\n",
    ")\n",
    "from captum.attr import LayerConductance, LayerActivation, LayerIntegratedGradients\n",
    "from captum.attr import NeuronConductance"
   ]
  },
  {
   "cell_type": "markdown",
   "id": "67d26a65-e26a-4497-bfa0-fc126a0bf62e",
   "metadata": {},
   "source": [
    "### Global model"
   ]
  },
  {
   "cell_type": "code",
   "execution_count": 35,
   "id": "e12bfaa3-aed2-4b5a-a187-490eb3bffed3",
   "metadata": {},
   "outputs": [
    {
     "name": "stderr",
     "output_type": "stream",
     "text": [
      "Using -1 to represent CPU tensor is deprecated. Please use a device object or string instead, e.g., \"cpu\".\n"
     ]
    }
   ],
   "source": [
    "gs = GradientShap(global_model)\n",
    "gs_attr_test = gs.attribute(torch.Tensor(x_test), torch.Tensor(x_train), target=1)"
   ]
  },
  {
   "cell_type": "code",
   "execution_count": 36,
   "id": "37334833-74b3-4931-bd78-4ec9446d8eda",
   "metadata": {},
   "outputs": [
    {
     "data": {
      "image/png": "[encoded data removed]",
      "text/plain": [
       "<Figure size 576x396 with 2 Axes>"
      ]
     },
     "metadata": {
      "needs_background": "light"
     },
     "output_type": "display_data"
    }
   ],
   "source": [
    "import shap \n",
    "shap.summary_plot(gs_attr_test.numpy(), x_test, max_display =10) "
   ]
  },
  {
   "cell_type": "code",
   "execution_count": 39,
   "id": "d3de816d-9650-4c6a-a68c-9f1160ffaacb",
   "metadata": {},
   "outputs": [
    {
     "data": {
      "image/png": "[encoded data removed]",
      "text/plain": [
       "<Figure size 576x396 with 1 Axes>"
      ]
     },
     "metadata": {
      "needs_background": "light"
     },
     "output_type": "display_data"
    }
   ],
   "source": [
    "shap.summary_plot(gs_attr_test.numpy(), x_test, plot_type=\"bar\", max_display = 10)"
   ]
  },
  {
   "cell_type": "markdown",
   "id": "a832a726-bddf-4770-8307-69b2bf8a19fd",
   "metadata": {},
   "source": [
    "### Client models"
   ]
  },
  {
   "cell_type": "code",
   "execution_count": 34,
   "id": "49fec021-cb06-4c24-a133-eda9a06b2bcc",
   "metadata": {},
   "outputs": [
    {
     "name": "stderr",
     "output_type": "stream",
     "text": [
      "100%|█████████████████████████████████████████████| 5/5 [00:47<00:00,  9.41s/it]\n"
     ]
    }
   ],
   "source": [
    "for i in tqdm(range(num_selected)):\n",
    "    loss += client_update(client_models[i], opt[i],criterion, train_loader[i], epoch=epochs)"
   ]
  },
  {
   "cell_type": "code",
   "execution_count": 40,
   "id": "56eca04c-329a-4984-8f6c-f4241c2463e8",
   "metadata": {},
   "outputs": [
    {
     "name": "stderr",
     "output_type": "stream",
     "text": [
      "Using -1 to represent CPU tensor is deprecated. Please use a device object or string instead, e.g., \"cpu\".\n"
     ]
    },
    {
     "data": {
      "image/png": "[encoded data removed]",
      "text/plain": [
       "<Figure size 576x396 with 1 Axes>"
      ]
     },
     "metadata": {
      "needs_background": "light"
     },
     "output_type": "display_data"
    },
    {
     "data": {
      "image/png": "[encoded data removed]",
      "text/plain": [
       "<Figure size 576x396 with 1 Axes>"
      ]
     },
     "metadata": {
      "needs_background": "light"
     },
     "output_type": "display_data"
    },
    {
     "data": {
      "image/png": "[encoded data removed]",
      "text/plain": [
       "<Figure size 576x396 with 1 Axes>"
      ]
     },
     "metadata": {
      "needs_background": "light"
     },
     "output_type": "display_data"
    },
    {
     "data": {
      "image/png": "[encoded data removed]",
      "text/plain": [
       "<Figure size 576x396 with 1 Axes>"
      ]
     },
     "metadata": {
      "needs_background": "light"
     },
     "output_type": "display_data"
    },
    {
     "data": {
      "image/png": "[encoded data removed]",
      "text/plain": [
       "<Figure size 576x396 with 1 Axes>"
      ]
     },
     "metadata": {
      "needs_background": "light"
     },
     "output_type": "display_data"
    }
   ],
   "source": [
    "for i in range(num_clients):\n",
    "    gs = GradientShap(client_models[i])\n",
    "    gs_attr_test = gs.attribute(torch.Tensor(x_test), torch.Tensor(x_train), target=0)\n",
    "    \n",
    "    shap.summary_plot(gs_attr_test.numpy(), x_test, plot_type=\"bar\", max_display = 10)"
   ]
  },
  {
   "cell_type": "code",
   "execution_count": null,
   "id": "04f2562f-eacc-4a4f-8b78-e8c27931ac33",
   "metadata": {},
   "outputs": [],
   "source": []
  }
 ],
 "metadata": {
  "kernelspec": {
   "display_name": "Python [conda env:.conda-pytorch]",
   "language": "python",
   "name": "conda-env-.conda-pytorch-py"
  },
  "language_info": {
   "codemirror_mode": {
    "name": "ipython",
    "version": 3
   },
   "file_extension": ".py",
   "mimetype": "text/x-python",
   "name": "python",
   "nbconvert_exporter": "python",
   "pygments_lexer": "ipython3",
   "version": "3.8.10"
  }
 },
 "nbformat": 4,
 "nbformat_minor": 5
}
